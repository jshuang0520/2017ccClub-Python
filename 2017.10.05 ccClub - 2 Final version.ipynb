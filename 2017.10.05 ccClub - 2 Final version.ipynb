{
 "cells": [
  {
   "cell_type": "markdown",
   "metadata": {},
   "source": [
    "## 1.星星金字塔\n",
    "\n",
    "輸入一個數字n代表行數，用 \"*\" 輸出一個正金字塔形狀"
   ]
  },
  {
   "cell_type": "code",
   "execution_count": 1,
   "metadata": {},
   "outputs": [
    {
     "name": "stdout",
     "output_type": "stream",
     "text": [
      "\n",
      "\n",
      "       *\n",
      "      ***\n",
      "     *****\n",
      "    *******\n",
      "   *********\n",
      "  ***********\n",
      " *************\n",
      "\n"
     ]
    }
   ],
   "source": [
    "def star_array(input_value) :\n",
    "    a = \"*\"    \n",
    "    ai = -1  # ai for number of stars \n",
    "    i = 0    # i for number of blanks\n",
    "    for i in range(0, (input_value) ) : \n",
    "        i = i + 1\n",
    "        ai = ai + 2\n",
    "        #print(\"ai = %i , i = %i \" % (ai, i) )  # ai for number of stars , i for number of blanks\n",
    "    \n",
    "    \n",
    "    print(\"\\n\")\n",
    "    aj = -1\n",
    "    j = i\n",
    "    #print(i)\n",
    "    for i in range(0, (input_value) ) :     \n",
    "        aj = aj + 2\n",
    "        j = j - 1\n",
    "        #print(\"aj = %i\" % (aj) ) \n",
    "        #print(\"\\n\")\n",
    "        print(\" \"*(j), a * (aj))       \n",
    "\n",
    "    return(\"\")\n",
    "\n",
    "print(star_array(7))"
   ]
  },
  {
   "cell_type": "markdown",
   "metadata": {},
   "source": [
    "## 2.月分差\n",
    "\n",
    "輸入兩個字串，分別是 \"年月\" 的形式，\n",
    "保證第二個字串發生的時間較晚，且字串長度皆為6，輸出相差幾個月份"
   ]
  },
  {
   "cell_type": "code",
   "execution_count": 12,
   "metadata": {},
   "outputs": [
    {
     "name": "stdout",
     "output_type": "stream",
     "text": [
      "輸入格式錯誤 : 輸入兩個字串，分別為 \"oooo(年)oo(月)\"，需以文字的形式，且保證第二個字串發生的時間較晚、字串長度皆為6 \n",
      "  ->  例 : 第一字串為 201601 ， 第二字串為 201710 \n",
      "\n",
      "您所輸入的 201601 和 201710 月分差為 : 21 個月\n"
     ]
    }
   ],
   "source": [
    "def month_difference(x, y) :\n",
    "    '''\n",
    "    輸入兩個字串，分別是 \"年月\" 的形式， 保證第二個字串發生的時間較晚，且字串長度皆為6，輸出相差幾個月份\n",
    "    '''\n",
    "    try :\n",
    "        year_x = int(x[0 : 4]) # python 取到 end - 1 ， 且因為輸入是文字，欲計算須轉成數字，使用 int()\n",
    "        year_y = int(y[0 : 4])\n",
    "        \n",
    "        month_x = int(x[4: ])\n",
    "        month_y = int(y[4: ])\n",
    "        \n",
    "        return(\"您所輸入的 %s 和 %s 月分差為 : %i 個月\" % (x, y, ((year_y - year_x)*12 + (month_y) - (month_x)) ) )\n",
    "        \n",
    "    except :\n",
    "        return('輸入格式錯誤 : 輸入兩個字串，分別為 \"oooo(年)oo(月)\"，需以文字的形式，且保證第二個字串發生的時間較晚、字串長度皆為6 \\n  ->  例 : 第一字串為 201601 ， 第二字串為 201710 \\n')\n",
    "\n",
    "print(month_difference(201601, 201710))    \n",
    "print(month_difference(\"201601\", \"201710\"))"
   ]
  },
  {
   "cell_type": "markdown",
   "metadata": {},
   "source": [
    "## 3.母音\n",
    "輸入一個字串，輸出有幾種母音(大小寫是為同一種，最大值為5)"
   ]
  },
  {
   "cell_type": "code",
   "execution_count": 3,
   "metadata": {},
   "outputs": [
    {
     "name": "stdout",
     "output_type": "stream",
     "text": [
      "您的輸入 HI, Apple Pen 所出現過的母音 : ['i', 'a', 'e', 'e'] ， 共有 3 種不同的母音\n"
     ]
    }
   ],
   "source": [
    "def count_vowel(input_string) :\n",
    "    \n",
    "    '''    \n",
    "    輸入一個字串，輸出有幾種母音(大小寫是為同一種，最大值為5)\n",
    "    '''\n",
    "\n",
    "    # 先全部轉換成小寫，以避免大小寫的困擾\n",
    "    tolower_input_string = str.lower(input_string)\n",
    "    \n",
    "        \n",
    "    # 把字串分開\n",
    "    str.split(input_string)\n",
    " \n",
    "    \n",
    "    # 收集出現過的母音\n",
    "    vowel_list_of_your_input = []\n",
    "\n",
    "    for i in range(0,len(input_string)) :\n",
    "        if (tolower_input_string[i] == \"a\" or tolower_input_string[i] == \"e\" or tolower_input_string[i] == \"i\" or tolower_input_string[i] == \"o\" or tolower_input_string[i] == \"u\") :\n",
    "            # 成員\n",
    "            vowel_list_of_your_input.append(tolower_input_string[i])            \n",
    "        else :\n",
    "            None\n",
    "\n",
    "    summation = 0\n",
    "    vowel_list = [\"a\", \"e\", \"i\", \"o\", \"u\"]\n",
    "    for i in range(0, len(vowel_list)) :\n",
    "        if vowel_list[i] in tolower_input_string :\n",
    "            summation = summation + 1 \n",
    "        \n",
    "    return (\"您的輸入 %s 所出現過的母音 : %s ， 共有 %i 種不同的母音\" % (input_string, vowel_list_of_your_input, summation))\n",
    "\n",
    "    \n",
    "print(count_vowel(\"HI, Apple Pen\"))"
   ]
  },
  {
   "cell_type": "markdown",
   "metadata": {},
   "source": [
    "## 4.英文字母總數\n",
    "\n",
    "輸入一個字串，輸出一共出現過幾種英文字母(大小寫是為同一種，最大值為26)"
   ]
  },
  {
   "cell_type": "code",
   "execution_count": 4,
   "metadata": {},
   "outputs": [
    {
     "name": "stdout",
     "output_type": "stream",
     "text": [
      "您的輸入是 : Hello world ! ， 共有 7 種不同的英文字母\n",
      "您的輸入是 : Hello, my name is Johnson Huang ! ， 共有 13 種不同的英文字母\n",
      "您的輸入是 : Curry drives, Curry fakes, Curry steps back...... Oh! He puts it in!!! ， 共有 18 種不同的英文字母\n"
     ]
    }
   ],
   "source": [
    "def count_alphabet(input_string) :\n",
    "    \n",
    "    '''    \n",
    "    輸入一個字串，輸出一共出現過幾種英文字母(大小寫是為同一種，最大值為26)\n",
    "    '''\n",
    "\n",
    "    # 先全部轉換成小寫\n",
    "    tolower_input_string = str.lower(input_string)\n",
    "\n",
    "    # 計算共有幾個不同的英文字母\n",
    "    summation = 0\n",
    "    alphabet_list = [\"a\", \"b\", \"c\", \"d\", \"e\", \"f\", \"g\", \"h\", \"i\", \"j\", \"k\", \"l\", \"m\", \"n\", \"o\", \"p\", \"q\", \"r\", \"s\", \"t\", \"u\", \"v\", \"w\", \"x\", \"y\", \"z\"]\n",
    "    for i in range(0, len(alphabet_list)) :\n",
    "        if alphabet_list[i] in tolower_input_string :\n",
    "            summation = summation + 1 \n",
    "        \n",
    "    return (\"您的輸入是 : %s ， 共有 %i 種不同的英文字母\" % (input_string, summation))\n",
    "\n",
    "    \n",
    "print(count_alphabet(\"Hello world !\"))\n",
    "print(count_alphabet(\"Hello, my name is Johnson Huang !\"))\n",
    "print(count_alphabet(\"Curry drives, Curry fakes, Curry steps back...... Oh! He puts it in!!!\"))"
   ]
  },
  {
   "cell_type": "markdown",
   "metadata": {},
   "source": [
    "## 5.回文\n",
    "\n",
    "輸入一個字串，回傳是不是回文\n",
    "(回文定義 : 從頭到尾跟從尾到頭是相同的。 例如 : g 是回文， aabbaa是回文 ， 而 app 不是回文)"
   ]
  },
  {
   "cell_type": "code",
   "execution_count": 5,
   "metadata": {},
   "outputs": [
    {
     "name": "stdout",
     "output_type": "stream",
     "text": [
      "您所輸入的 a : Yes ! 這是回文\n",
      "您所輸入的 aabbaa : Yes ! 這是回文\n",
      "您所輸入的 app : Nooo! 這不是回文\n",
      "您所輸入的 早安安早 : Yes ! 這是回文\n"
     ]
    }
   ],
   "source": [
    "def your_input_palindrome(input_string) :\n",
    "    \n",
    "    '''    \n",
    "    輸入一個字串，回傳是不是回文\n",
    "    '''\n",
    "\n",
    "    for i in range(0, len(input_string)) :\n",
    "        \n",
    "        # 回文的頭尾元素要對稱、要一樣\n",
    "        if input_string[i] == input_string[-i-1] :\n",
    "            return (\"您所輸入的 %s : Yes ! 這是回文\" % input_string)\n",
    "        else :\n",
    "            return (\"您所輸入的 %s : Nooo! 這不是回文\" % input_string)\n",
    "\n",
    "    \n",
    "print(your_input_palindrome(\"a\"))\n",
    "print(your_input_palindrome(\"aabbaa\"))\n",
    "print(your_input_palindrome(\"app\"))\n",
    "print(your_input_palindrome(\"早安安早\"))"
   ]
  },
  {
   "cell_type": "markdown",
   "metadata": {},
   "source": [
    "## 6.數字和\n",
    "\n",
    "輸入一個字串，輸出裡面含有數字部分的總和"
   ]
  },
  {
   "cell_type": "code",
   "execution_count": 24,
   "metadata": {},
   "outputs": [
    {
     "name": "stdout",
     "output_type": "stream",
     "text": [
      "您所輸入的數字部分，總合是 : 25 ，您的輸入為 \"Here's my email : s9140911@yahoo.com.tw\"\n",
      "您所輸入的數字部分，總合是 : 10 ，您的輸入為 \"This is ccClub2017!\"\n",
      "您所輸入的數字部分，總合是 : 0 ，您的輸入為 \"我並沒有輸入數字\"\n"
     ]
    }
   ],
   "source": [
    "def sum_your_input(input_string) :\n",
    "    \n",
    "    '''    \n",
    "    輸入一個字串，輸出裡面含有數字部分的總和\n",
    "    '''\n",
    "\n",
    "    # 正規表達式\n",
    "    # 看來可以趁機找了解一下python正規表達式子的使用方法\n",
    "    \n",
    "    summation = 0\n",
    "    number_list = [\"1\", \"2\", \"3\", \"4\", \"5\", \"6\", \"7\", \"8\", \"9\", \"0\"]\n",
    "    \n",
    "    for i in range(0, len(input_string)) :\n",
    "        if input_string[i] in number_list :\n",
    "            # 因為 number_list 裡面元素都是文字，我要轉換成數字接下來才能運算相加 : 使用 int()\n",
    "            summation = summation + int(input_string[i])\n",
    "        \n",
    "    return (\"您所輸入的數字部分，總合是 : %i ，您的輸入為 \\\"%s\\\"\" % (summation, input_string) )\n",
    "\n",
    "    \n",
    "print(sum_your_input(\"Here's my email : s9140911@yahoo.com.tw\"))\n",
    "print(sum_your_input(\"This is ccClub2017!\"))\n",
    "print(sum_your_input(\"我並沒有輸入數字\"))"
   ]
  },
  {
   "cell_type": "code",
   "execution_count": null,
   "metadata": {
    "collapsed": true
   },
   "outputs": [],
   "source": []
  },
  {
   "cell_type": "markdown",
   "metadata": {},
   "source": [
    "參考資料 : \n",
    "http://yuanann.pixnet.net/blog/post/23211833-python-%3Astring-%E5%B8%B8%E7%94%A8%E7%9A%84%E6%96%B9%E6%B3%95"
   ]
  }
 ],
 "metadata": {
  "kernelspec": {
   "display_name": "Python 3",
   "language": "python",
   "name": "python3"
  },
  "language_info": {
   "codemirror_mode": {
    "name": "ipython",
    "version": 3
   },
   "file_extension": ".py",
   "mimetype": "text/x-python",
   "name": "python",
   "nbconvert_exporter": "python",
   "pygments_lexer": "ipython3",
   "version": "3.6.1"
  }
 },
 "nbformat": 4,
 "nbformat_minor": 2
}
