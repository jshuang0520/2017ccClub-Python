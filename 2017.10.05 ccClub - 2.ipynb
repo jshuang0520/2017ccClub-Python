{
 "cells": [
  {
   "cell_type": "markdown",
   "metadata": {},
   "source": [
    "## 1.星星金字塔\n",
    "\n",
    "輸入一個數字n代表行數，用 \"*\" 輸出一個正金字塔形狀"
   ]
  },
  {
   "cell_type": "code",
   "execution_count": 294,
   "metadata": {},
   "outputs": [
    {
     "name": "stdout",
     "output_type": "stream",
     "text": [
      "    * \n",
      "   *** \n",
      "  *****\n"
     ]
    }
   ],
   "source": [
    "# 第 1 次嘗試 : 還沒成功......往下找有成功的那次嘗試吧\n",
    "\n",
    "a = \"*\"\n",
    "\n",
    "print(\"   \", a * 1,\"\\n\", \" \", a * 3,\"\\n\",\"\", a * 5)\n",
    "\n"
   ]
  },
  {
   "cell_type": "code",
   "execution_count": 410,
   "metadata": {},
   "outputs": [
    {
     "name": "stdout",
     "output_type": "stream",
     "text": [
      "*\n",
      "***\n",
      "*****\n",
      "*******\n",
      "*********\n",
      "\n",
      "\n"
     ]
    }
   ],
   "source": [
    "# 第 2 次嘗試 : 還沒成功......往下找有成功的那次嘗試吧\n",
    "\n",
    "input_value = 5\n",
    "a = \"*\"\n",
    "\n",
    "the_star_list = []\n",
    "number_of_layer = -1\n",
    "for i in range(0, input_value) : \n",
    "    number_of_layer = number_of_layer + 2\n",
    "    #the_star_list[i] = str(a * number_of_layer) # IndexError: list assignment index out of range\n",
    "    print(str(a * number_of_layer))\n",
    "    #print(the_star_list)\n",
    "print(\"\\n\")    \n",
    "    \n",
    "    \n",
    "    \n"
   ]
  },
  {
   "cell_type": "code",
   "execution_count": 379,
   "metadata": {},
   "outputs": [
    {
     "name": "stdout",
     "output_type": "stream",
     "text": [
      "*\n",
      "***\n",
      "*****\n",
      "*******\n",
      "*********\n"
     ]
    }
   ],
   "source": [
    "input_value = 5\n",
    "a = \"*\"    \n",
    "ai = -1\n",
    "for i in range(0, input_value) : \n",
    "    ai = ai + 2\n",
    "    print(a * ai)"
   ]
  },
  {
   "cell_type": "code",
   "execution_count": 408,
   "metadata": {},
   "outputs": [
    {
     "name": "stdout",
     "output_type": "stream",
     "text": [
      "*\n",
      "\n",
      "\n",
      "*\n",
      "***\n",
      "\n",
      "\n",
      "***\n",
      "*****\n",
      "\n",
      "\n",
      "*****\n",
      "*******\n",
      "\n",
      "\n",
      "*******\n",
      "*********\n",
      "\n",
      "\n",
      "*********\n",
      "\n",
      "\n"
     ]
    }
   ],
   "source": [
    "# 第 3 次嘗試 : 還沒成功......往下找有成功的那次嘗試吧\n",
    "\n",
    "input_value = 5\n",
    "a = \"*\"\n",
    "\n",
    "the_star_list = []\n",
    "number_of_layer = -1\n",
    "for i in range(0, input_value) : \n",
    "    number_of_layer = number_of_layer + 2\n",
    "    a_i = a * number_of_layer\n",
    "    \n",
    "    print(str(a * number_of_layer))\n",
    "    print(\"\\n\")\n",
    "    print(a_i)\n",
    "print(\"\\n\")    "
   ]
  },
  {
   "cell_type": "markdown",
   "metadata": {},
   "source": [
    "## 2.月分差\n",
    "\n",
    "輸入兩個字串，分別是 \"年月\" 的形式，\n",
    "保證第二個字串發生的時間較晚，且字串長度皆為6，輸出相差幾個月份"
   ]
  },
  {
   "cell_type": "code",
   "execution_count": 261,
   "metadata": {},
   "outputs": [
    {
     "name": "stdout",
     "output_type": "stream",
     "text": [
      "輸入格式錯誤 : 輸入兩個字串，分別需為 \"oooo年oo月\" (文字)的形式，且保證第二個字串發生的時間較晚、字串長度皆為6\n",
      "您所輸入的 201601 和 201710 月分差為 : 21 個月\n"
     ]
    }
   ],
   "source": [
    "def month_difference(x, y) :\n",
    "    '''\n",
    "    輸入兩個字串，分別是 \"年月\" 的形式， 保證第二個字串發生的時間較晚，且字串長度皆為6，輸出相差幾個月份\n",
    "    '''\n",
    "    try :\n",
    "        year_x = int(x[0 : 4]) # python 取到 end - 1 ， 且因為輸入是文字，欲計算須轉成數字，使用 int()\n",
    "        year_y = int(y[0 : 4])\n",
    "        \n",
    "        month_x = int(x[4: ])\n",
    "        month_y = int(y[4: ])\n",
    "        \n",
    "        return(\"您所輸入的 %s 和 %s 月分差為 : %i 個月\" % (x, y, ((year_y - year_x)*12 + (month_y) - (month_x)) ) )\n",
    "        \n",
    "    except :\n",
    "        return('輸入格式錯誤 : 輸入兩個字串，分別需為 \"oooo年oo月\" (文字)的形式，且保證第二個字串發生的時間較晚、字串長度皆為6')\n",
    "\n",
    "print(month_difference(201601, 201710))    \n",
    "print(month_difference(\"201601\", \"201710\"))"
   ]
  },
  {
   "cell_type": "markdown",
   "metadata": {},
   "source": [
    "## 3.母音\n",
    "輸入一個字串，輸出有幾種母音(大小寫是為同一種，最大值為5)"
   ]
  },
  {
   "cell_type": "code",
   "execution_count": 112,
   "metadata": {},
   "outputs": [
    {
     "name": "stdout",
     "output_type": "stream",
     "text": [
      "b\n",
      "o\n",
      "o\n",
      "k\n",
      "\n",
      "\n",
      "其中母音出現 : ['o', 'o'] ， 共有 2 個\n"
     ]
    }
   ],
   "source": [
    "# 第 1 次嘗試 : 還沒成功，目前只能計算母音出現的個數，還沒辦法判斷 \"種類 \"......往下找有成功的那次嘗試吧\n",
    "\n",
    "# 自訂函數 - 只做出能數母音個數的函數\n",
    "def count_vowel(input_string) :\n",
    "    \n",
    "    # 印出字串\n",
    "    for i in range(0,len(input_string)) :\n",
    "        print(input_string[i])        \n",
    "    print(\"\\n\")\n",
    "    \n",
    "    # 把字串分開\n",
    "    str.split(input_string)\n",
    "    \n",
    "    \n",
    "    # 計算母音的個數\n",
    "    vowel_list = []\n",
    "    summation = 0\n",
    "    for i in range(0,len(input_string)) :\n",
    "        if (input_string[i] == \"a\" or input_string[i] == \"A\" or input_string[i] == \"e\" or input_string[i] == \"E\" or input_string[i] == \"i\" or input_string[i] == \"I\" or input_string[i] == \"o\" or input_string[i] == \"O\" or input_string[i] == \"u\" or input_string[i] == \"U\") :\n",
    "            # 個數\n",
    "            summation = summation + 1\n",
    "            # 成員\n",
    "            vowel_list.append(input_string[i])            \n",
    "        else :\n",
    "            None\n",
    "    return (\"其中母音出現 : %s ， 共有 %i 個\" % (vowel_list, summation))\n",
    "\n",
    "    \n",
    "print(count_vowel(\"book\"))"
   ]
  },
  {
   "cell_type": "code",
   "execution_count": 437,
   "metadata": {},
   "outputs": [
    {
     "name": "stdout",
     "output_type": "stream",
     "text": [
      "收集出現過的母音 : ['o', 'u', 'i', 'a', 'i', 'o'] ， 共有 4 種\n"
     ]
    }
   ],
   "source": [
    "# 第 2 次嘗試 : 成功了，但還沒包裝成函數!\n",
    "\n",
    "# 因為要數所有母音的種類而已，既然大小寫視為同一種，那就避免大小寫帶來的困擾，而先全轉成小寫\n",
    "\n",
    "# 宣告輸入值\n",
    "input_string = \"pronunciation\"\n",
    "\n",
    "# 先全部轉換成小寫\n",
    "input_string = str.lower(input_string)\n",
    "\n",
    "# 把字串分開\n",
    "str.split(input_string)\n",
    " \n",
    "    \n",
    "# 收集出現過的母音\n",
    "vowel_list_of_your_input = []\n",
    "\n",
    "for i in range(0,len(input_string)) :\n",
    "    if (input_string[i] == \"a\" or input_string[i] == \"e\" or input_string[i] == \"i\" or input_string[i] == \"o\" or input_string[i] == \"u\") :\n",
    "        # 成員\n",
    "        vowel_list_of_your_input.append(input_string[i])            \n",
    "    else :\n",
    "        None\n",
    "\n",
    "summation = 0\n",
    "vowel_list = [\"a\", \"e\", \"i\", \"o\", \"u\"]\n",
    "for i in range(0, len(vowel_list)) :\n",
    "    if vowel_list[i] in vowel_list_of_your_input :\n",
    "        summation = summation + 1 \n",
    "\n",
    "\n",
    "\n",
    "print(\"收集出現過的母音 : %s ， 共有 %i 種\" % (vowel_list_of_your_input, summation))\n",
    "\n"
   ]
  },
  {
   "cell_type": "code",
   "execution_count": 439,
   "metadata": {},
   "outputs": [
    {
     "name": "stdout",
     "output_type": "stream",
     "text": [
      "hi, apple pen\n",
      "您的輸入 HI, Apple Pen 所出現過的母音 : ['i', 'a', 'e', 'e'] ， 共有 3 種不同的母音\n"
     ]
    }
   ],
   "source": [
    "# 第 3 次嘗試 : 成功啦 ， 也成功包裝成函數啦 ~~~~~~~~~~~~~\n",
    "\n",
    "# 自訂函數 : 輸入一個字串，輸出有幾種母音(大小寫是為同一種，最大值為5)\n",
    "def count_vowel(input_string) :\n",
    "    \n",
    "    '''    \n",
    "    輸入一個字串，輸出有幾種母音(大小寫是為同一種，最大值為5)\n",
    "    '''\n",
    "\n",
    "    # 先全部轉換成小寫，以避免大小寫的困擾\n",
    "    tolower_input_string = str.lower(input_string)\n",
    "    print(tolower_input_string)\n",
    "        \n",
    "    # 把字串分開\n",
    "    str.split(input_string)\n",
    " \n",
    "    \n",
    "    # 收集出現過的母音\n",
    "    vowel_list_of_your_input = []\n",
    "\n",
    "    for i in range(0,len(input_string)) :\n",
    "        if (tolower_input_string[i] == \"a\" or tolower_input_string[i] == \"e\" or tolower_input_string[i] == \"i\" or tolower_input_string[i] == \"o\" or tolower_input_string[i] == \"u\") :\n",
    "            # 成員\n",
    "            vowel_list_of_your_input.append(tolower_input_string[i])            \n",
    "        else :\n",
    "            None\n",
    "\n",
    "    summation = 0\n",
    "    vowel_list = [\"a\", \"e\", \"i\", \"o\", \"u\"]\n",
    "    for i in range(0, len(vowel_list)) :\n",
    "        if vowel_list[i] in tolower_input_string :\n",
    "            summation = summation + 1 \n",
    "        \n",
    "    return (\"您的輸入 %s 所出現過的母音 : %s ， 共有 %i 種不同的母音\" % (input_string, vowel_list_of_your_input, summation))\n",
    "\n",
    "    \n",
    "print(count_vowel(\"HI, Apple Pen\"))"
   ]
  },
  {
   "cell_type": "markdown",
   "metadata": {},
   "source": [
    "## 4.英文字母總數\n",
    "\n",
    "輸入一個字串，輸出一共出現過幾種英文字母(大小寫是為同一種，最大值為26)"
   ]
  },
  {
   "cell_type": "code",
   "execution_count": 413,
   "metadata": {},
   "outputs": [
    {
     "name": "stdout",
     "output_type": "stream",
     "text": [
      "您的輸入是 : Hello world ! ， 共有 7 種不同的英文字母\n",
      "您的輸入是 : Hello, my name is Johnson Huang ! ， 共有 13 種不同的英文字母\n",
      "您的輸入是 : Curry drives, Curry fakes, Curry steps back...... Oh! He puts it in!!! ， 共有 18 種不同的英文字母\n"
     ]
    }
   ],
   "source": [
    "def count_alphabet(input_string) :\n",
    "    \n",
    "    '''    \n",
    "    輸入一個字串，輸出一共出現過幾種英文字母(大小寫是為同一種，最大值為26)\n",
    "    '''\n",
    "\n",
    "    # 先全部轉換成小寫\n",
    "    tolower_input_string = str.lower(input_string)\n",
    "\n",
    "    # 計算共有幾個不同的英文字母\n",
    "    summation = 0\n",
    "    alphabet_list = [\"a\", \"b\", \"c\", \"d\", \"e\", \"f\", \"g\", \"h\", \"i\", \"j\", \"k\", \"l\", \"m\", \"n\", \"o\", \"p\", \"q\", \"r\", \"s\", \"t\", \"u\", \"v\", \"w\", \"x\", \"y\", \"z\"]\n",
    "    for i in range(0, len(alphabet_list)) :\n",
    "        if alphabet_list[i] in tolower_input_string :\n",
    "            summation = summation + 1 \n",
    "        \n",
    "    return (\"您的輸入是 : %s ， 共有 %i 種不同的英文字母\" % (input_string, summation))\n",
    "\n",
    "    \n",
    "print(count_alphabet(\"Hello world !\"))\n",
    "print(count_alphabet(\"Hello, my name is Johnson Huang !\"))\n",
    "print(count_alphabet(\"Curry drives, Curry fakes, Curry steps back...... Oh! He puts it in!!!\"))"
   ]
  },
  {
   "cell_type": "markdown",
   "metadata": {},
   "source": [
    "## 5.回文\n",
    "\n",
    "輸入一個字串，回傳是不是回文\n",
    "(回文定義 : 從頭到尾跟從尾到頭是相同的。 例如 : g 是回文， aabbaa是回文 ， 而 app 不是回文)"
   ]
  },
  {
   "cell_type": "code",
   "execution_count": 412,
   "metadata": {},
   "outputs": [
    {
     "name": "stdout",
     "output_type": "stream",
     "text": [
      "您所輸入的 a : Yes ! 這是回文\n",
      "您所輸入的 aabbaa : Yes ! 這是回文\n",
      "您所輸入的 app : Nooo! 這不是回文\n",
      "您所輸入的 早安安早 : Yes ! 這是回文\n"
     ]
    }
   ],
   "source": [
    "def your_input_palindrome(input_string) :\n",
    "    \n",
    "    '''    \n",
    "    輸入一個字串，回傳是不是回文\n",
    "    '''\n",
    "\n",
    "    for i in range(0, len(input_string)) :\n",
    "        # 回文的頭尾元素要對稱、要一樣\n",
    "        if input_string[i] == input_string[-i-1] :\n",
    "            return (\"您所輸入的 %s : Yes ! 這是回文\" % input_string)\n",
    "        else :\n",
    "            return (\"您所輸入的 %s : Nooo! 這不是回文\" % input_string)\n",
    "\n",
    "    \n",
    "print(your_input_palindrome(\"a\"))\n",
    "print(your_input_palindrome(\"aabbaa\"))\n",
    "print(your_input_palindrome(\"app\"))\n",
    "print(your_input_palindrome(\"早安安早\"))"
   ]
  },
  {
   "cell_type": "markdown",
   "metadata": {},
   "source": [
    "## 6.數字和\n",
    "\n",
    "輸入一個字串，輸出裡面含有數字部分的總和"
   ]
  },
  {
   "cell_type": "code",
   "execution_count": 222,
   "metadata": {},
   "outputs": [
    {
     "name": "stdout",
     "output_type": "stream",
     "text": [
      "您所輸入的數字部分，總合是 : 11 \n"
     ]
    }
   ],
   "source": [
    "# 第 1 次嘗試 - 失敗了 QQ ，往下找有成功的那次嘗試吧\n",
    "\n",
    "\n",
    "def sum_your_input(input_string) :\n",
    "    \n",
    "    '''    \n",
    "    輸入一個字串，輸出裡面含有數字部分的總和\n",
    "    '''\n",
    "\n",
    "    summation = 0\n",
    "    number_list = [\"1\", \"2\", \"3\", \"4\", \"5\", \"6\", \"7\", \"8\", \"9\", \"0\"]\n",
    "    for i in range(0, len(number_list)) :\n",
    "        if number_list[i] in input_string :\n",
    "            # 因為 number_list 裡面元素都是文字，我要轉換成數字接下來才能運算相加 : 使用 int()\n",
    "            summation = summation + int(number_list[i])\n",
    "        \n",
    "    return (\"您所輸入的數字部分，總合是 : %i \" % summation)\n",
    "\n",
    "    \n",
    "print(sum_your_input(\"I love number 5566\")) #應該要是22"
   ]
  },
  {
   "cell_type": "code",
   "execution_count": 411,
   "metadata": {},
   "outputs": [
    {
     "name": "stdout",
     "output_type": "stream",
     "text": [
      "您所輸入的數字部分，總合是 : 25 \n",
      "您所輸入的數字部分，總合是 : 10 \n"
     ]
    }
   ],
   "source": [
    "# 第 2 次嘗試 :  成功啦 ~~~~~~~~~~~~~\n",
    "\n",
    "def sum_your_input(input_string) :\n",
    "    \n",
    "    '''    \n",
    "    輸入一個字串，輸出裡面含有數字部分的總和\n",
    "    '''\n",
    "\n",
    "    # 正規表達式\n",
    "    # 看來可以趁機找了解一下python正規表達式子的使用方法\n",
    "    \n",
    "    summation = 0\n",
    "    number_list = [\"1\", \"2\", \"3\", \"4\", \"5\", \"6\", \"7\", \"8\", \"9\", \"0\"]\n",
    "    \n",
    "    for i in range(0, len(input_string)) :\n",
    "        if input_string[i] in number_list :\n",
    "            # 因為 number_list 裡面元素都是文字，我要轉換成數字接下來才能運算相加 : 使用 int()\n",
    "            summation = summation + int(input_string[i])\n",
    "        \n",
    "    return (\"您所輸入的數字部分，總合是 : %i \" % summation)\n",
    "\n",
    "    \n",
    "print(sum_your_input(\"I am s9140911@yahoo.com.tw\"))\n",
    "print(sum_your_input(\"This is ccClub2017!\"))"
   ]
  }
 ],
 "metadata": {
  "kernelspec": {
   "display_name": "Python 3",
   "language": "python",
   "name": "python3"
  },
  "language_info": {
   "codemirror_mode": {
    "name": "ipython",
    "version": 3
   },
   "file_extension": ".py",
   "mimetype": "text/x-python",
   "name": "python",
   "nbconvert_exporter": "python",
   "pygments_lexer": "ipython3",
   "version": "3.6.1"
  }
 },
 "nbformat": 4,
 "nbformat_minor": 2
}
