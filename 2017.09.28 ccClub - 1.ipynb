{
 "cells": [
  {
   "cell_type": "markdown",
   "metadata": {},
   "source": [
    "### 閏年(leap year)判斷\n",
    "\n",
    "\n",
    "輸入一個年份，判斷是否為閏年並輸出結果\n",
    "\n",
    "\n",
    "閏年規則：\n",
    "- 每四年閏年一次\n",
    "- 每100年不閏年\n",
    "- 每400年再閏年"
   ]
  },
  {
   "cell_type": "code",
   "execution_count": 31,
   "metadata": {},
   "outputs": [],
   "source": [
    "def leap_year(x) :\n",
    "    if x % 400 == 0 :\n",
    "        return (\"%s年 是閏年\" % x)\n",
    "    elif x % 4 == 0 :\n",
    "        if x % 100 == 0 :\n",
    "            return (\"%s年 不是閏年\" % x)\n",
    "        return (\"%s年 是閏年\" % x)\n",
    "    else :\n",
    "        return (\"%s年 不是閏年\" % x)"
   ]
  },
  {
   "cell_type": "code",
   "execution_count": 41,
   "metadata": {},
   "outputs": [
    {
     "name": "stdout",
     "output_type": "stream",
     "text": [
      "4年 是閏年\n",
      "100年 不是閏年\n",
      "400年 是閏年\n",
      "================\n",
      "90年 不是閏年\n",
      "96年 是閏年\n",
      "200年 不是閏年\n",
      "500年 不是閏年\n",
      "600年 不是閏年\n",
      "800年 是閏年\n",
      "1500年 不是閏年\n",
      "1600年 是閏年\n"
     ]
    }
   ],
   "source": [
    "print(leap_year(4))\n",
    "print(leap_year(100))\n",
    "print(leap_year(400))\n",
    "print(\"================\")\n",
    "print(leap_year(90))\n",
    "print(leap_year(96))\n",
    "print(leap_year(200))\n",
    "print(leap_year(500))\n",
    "print(leap_year(600))\n",
    "print(leap_year(800))\n",
    "print(leap_year(1500))\n",
    "print(leap_year(1600))"
   ]
  },
  {
   "cell_type": "code",
   "execution_count": null,
   "metadata": {
    "collapsed": true
   },
   "outputs": [],
   "source": []
  }
 ],
 "metadata": {
  "kernelspec": {
   "display_name": "Python 3",
   "language": "python",
   "name": "python3"
  },
  "language_info": {
   "codemirror_mode": {
    "name": "ipython",
    "version": 3
   },
   "file_extension": ".py",
   "mimetype": "text/x-python",
   "name": "python",
   "nbconvert_exporter": "python",
   "pygments_lexer": "ipython3",
   "version": "3.6.1"
  }
 },
 "nbformat": 4,
 "nbformat_minor": 2
}
